{
 "cells": [
  {
   "cell_type": "code",
   "execution_count": 1,
   "id": "845daa8c",
   "metadata": {},
   "outputs": [],
   "source": [
    "import numpy as np\n",
    "import helper\n",
    "import pickle\n",
    "import datetime\n",
    "import os.path\n",
    "import time\n",
    "import pandas as pd"
   ]
  },
  {
   "cell_type": "code",
   "execution_count": null,
   "id": "d28c48bf",
   "metadata": {
    "scrolled": true
   },
   "outputs": [
    {
     "name": "stdout",
     "output_type": "stream",
     "text": [
      "Trial  0\n"
     ]
    },
    {
     "data": {
      "application/vnd.jupyter.widget-view+json": {
       "model_id": "14abb9fa7a844447afd77e6e6f431255",
       "version_major": 2,
       "version_minor": 0
      },
      "text/plain": [
       "IntProgress(value=0)"
      ]
     },
     "metadata": {},
     "output_type": "display_data"
    },
    {
     "name": "stdout",
     "output_type": "stream",
     "text": [
      "\n",
      "\n",
      " 697 / 7280  entries unfinished\n",
      "\n",
      "\n",
      "Trial  1\n"
     ]
    },
    {
     "data": {
      "application/vnd.jupyter.widget-view+json": {
       "model_id": "d3b008a0b0b046a5a8d6ecefc913a5ce",
       "version_major": 2,
       "version_minor": 0
      },
      "text/plain": [
       "IntProgress(value=0)"
      ]
     },
     "metadata": {},
     "output_type": "display_data"
    }
   ],
   "source": [
    "domestic_city_pairs = [\n",
    "    [\"ATL\",\"SEA\"], \n",
    "    [\"ATL\",\"DEN\"], \n",
    "    [\"ATL\",\"LIH\"],\n",
    "    [\"ATL\",\"OGG\"],\n",
    "    [\"ATL\",\"SAN\"], \n",
    "    [\"ATL\",\"SFO\"], \n",
    "    [\"ATL\",\"DFW\"],\n",
    "    [\"ATL\",\"LAS\"],\n",
    "    [\"ATL\",\"PHX\"], \n",
    "    [\"ATL\",\"BOS\"], \n",
    "]\n",
    "mode = \"domestic\"\n",
    "num_days = 365\n",
    "folder_path = 'logs/'\n",
    "max_tries = 3\n",
    "date_today_file = datetime.datetime.today().strftime('%Y-%m-%d') + '.pkl'\n",
    "if os.path.isfile(folder_path+date_today_file):\n",
    "    with open(folder_path+date_today_file, 'rb') as handle:\n",
    "        itin_dict = pickle.load(handle) \n",
    "else:\n",
    "    itin = helper.gen_itineraries(domestic_city_pairs, \"domestic\", num_days)\n",
    "    itin_dict = helper.gen_dict_from_itin(itin)\n",
    "    with open(folder_path+date_today_file, 'wb') as handle:\n",
    "        pickle.dump(itin_dict, handle, protocol=pickle.HIGHEST_PROTOCOL)\n",
    "\n",
    "for i in range(max_tries):\n",
    "    print(\"Trial \",i)\n",
    "    num_unfinished = helper.update_dict(itin_dict, folder_path, date_today_file, mode)\n",
    "    total_keys = len(itin_dict.keys())\n",
    "    print(\"\\n\\n\",num_unfinished,\"/\",total_keys, \" entries unfinished\\n\\n\")\n",
    "    if num_unfinished==0:\n",
    "        print(\"\\n\\nAll entries filled. Exiting\\n\\n\")\n",
    "        break"
   ]
  }
 ],
 "metadata": {
  "kernelspec": {
   "display_name": "Python 3 (ipykernel)",
   "language": "python",
   "name": "python3"
  },
  "language_info": {
   "codemirror_mode": {
    "name": "ipython",
    "version": 3
   },
   "file_extension": ".py",
   "mimetype": "text/x-python",
   "name": "python",
   "nbconvert_exporter": "python",
   "pygments_lexer": "ipython3",
   "version": "3.11.3"
  }
 },
 "nbformat": 4,
 "nbformat_minor": 5
}
