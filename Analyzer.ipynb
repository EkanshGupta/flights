{
 "cells": [
  {
   "cell_type": "code",
   "execution_count": 5,
   "metadata": {},
   "outputs": [],
   "source": [
    "import numpy as np\n",
    "import helper\n",
    "import pickle\n",
    "import datetime\n",
    "import os.path\n",
    "import time\n",
    "import pandas as pd\n",
    "import sqlite3\n",
    "import pandas as pd\n",
    "import re"
   ]
  },
  {
   "cell_type": "code",
   "execution_count": 6,
   "metadata": {},
   "outputs": [],
   "source": [
    "origin=\"ATL\"\n",
    "destination=\"SEA\"\n",
    "mode=\"domestic\"\n",
    "duration=5\n",
    "folder_location = \"logs/\"\n",
    "exclusion_list = [\"2024-05-31.pkl\", \"2024-05-31_intl.pkl\"]\n",
    "stops = 0\n",
    "\n",
    "#This gets all the data from all the files that matches origin and destination\n",
    "# aggDf = helper.getAllFlightData(origin, destination, folder_location, exclusion_list)\n",
    "# aggDf = helper.getItinDfFromAggDf(origin, destination, aggDf, duration, mode, stops)"
   ]
  },
  {
   "cell_type": "code",
   "execution_count": 30,
   "metadata": {},
   "outputs": [],
   "source": [
    "def extract_price_and_currency(df):\n",
    "    # Use regex to extract currency symbol (assumes symbol is at the start)\n",
    "    df['currency'] = df['price'].str.extract(r'^([^\\d]+)')  # non-digit characters at start\n",
    "    # Remove non-numeric characters and convert to float\n",
    "    df['price_float'] = df['price'].str.replace(r'[^\\d.]', '', regex=True).astype(float)\n",
    "    return df\n",
    "\n",
    "def query_flights_from_db(db_filename, mode, folder_location, origin=None, destination=None, max_price=None, after_date=None):\n",
    "    # Connect to the database\n",
    "    # print(f\"{folder_location}{db_filename}_{mode}.db\")\n",
    "    conn = sqlite3.connect(f\"{folder_location}{db_filename}_{mode}.db\")\n",
    "    cursor = conn.cursor()\n",
    "\n",
    "    # Build query with optional conditions\n",
    "    query = \"SELECT * FROM data_table WHERE 1=1\"\n",
    "    params = []\n",
    "\n",
    "    if origin:\n",
    "        query += \" AND origin = ?\"\n",
    "        params.append(origin)\n",
    "    if destination:\n",
    "        query += \" AND destination = ?\"\n",
    "        params.append(destination)\n",
    "    if max_price:\n",
    "        query += \" AND CAST(price AS FLOAT) <= ?\"\n",
    "        params.append(max_price)\n",
    "    if after_date:\n",
    "        query += \" AND departure_date >= ?\"\n",
    "        params.append(after_date)\n",
    "\n",
    "    # Execute the query and load into DataFrame\n",
    "    df = pd.read_sql_query(query, conn, params=params)\n",
    "    print(f\"\\nTotal rows fetched into DataFrame: {len(df)}\")\n",
    "\n",
    "    # Close connection\n",
    "    conn.close()\n",
    "    return df\n",
    "\n",
    "\n",
    "def filter_df(\n",
    "    df,\n",
    "    max_price=None,\n",
    "    min_price=None,\n",
    "    start_date=None,\n",
    "    end_date=None,\n",
    "    exact_origin=None,\n",
    "    exact_destination=None,\n",
    "    max_stops=None\n",
    "):\n",
    "    filtered_df = df.copy()\n",
    "\n",
    "    if max_price is not None:\n",
    "        filtered_df = filtered_df[pd.to_numeric(filtered_df['price_float'], errors='coerce') <= max_price]\n",
    "    if min_price is not None:\n",
    "        filtered_df = filtered_df[pd.to_numeric(filtered_df['price_float'], errors='coerce') >= min_price]\n",
    "    if start_date is not None:\n",
    "        filtered_df = filtered_df[filtered_df['departure_date'] >= start_date]\n",
    "    if end_date is not None:\n",
    "        filtered_df = filtered_df[filtered_df['departure_date'] <= end_date]\n",
    "    if exact_origin:\n",
    "        filtered_df = filtered_df[filtered_df['origin'] == exact_origin]\n",
    "    if exact_destination:\n",
    "        filtered_df = filtered_df[filtered_df['destination'] == exact_destination]\n",
    "    if max_stops is not None:\n",
    "        filtered_df = filtered_df[pd.to_numeric(filtered_df['stops'], errors='coerce') <= max_stops]\n",
    "\n",
    "    print(f\"Filtered rows remaining: {len(filtered_df)}\")\n",
    "    return filtered_df"
   ]
  },
  {
   "cell_type": "code",
   "execution_count": 8,
   "metadata": {},
   "outputs": [
    {
     "name": "stdout",
     "output_type": "stream",
     "text": [
      "./logs/dataDB_domestic.db\n",
      "\n",
      "Total rows fetched into DataFrame: 1684925\n",
      "\n",
      "Total rows now: 759353\n"
     ]
    }
   ],
   "source": [
    "\n",
    "results = query_flights_from_db(\n",
    "    db_filename=\"dataDB\",\n",
    "    mode=\"domestic\",\n",
    "    folder_location=\"./logs/\",\n",
    "    origin=\"ATL\",\n",
    "    destination=\"SEA\",\n",
    "    # max_price=450,\n",
    "    # after_date=\"2025-07-01\"\n",
    ")\n",
    "results = extract_price_and_currency(results)\n",
    "print(f\"\\nTotal rows now: {len(results)}\")\n",
    "\n"
   ]
  },
  {
   "cell_type": "code",
   "execution_count": 37,
   "metadata": {},
   "outputs": [
    {
     "name": "stdout",
     "output_type": "stream",
     "text": [
      "\n",
      "Total rows now: 759353\n",
      "Filtered rows remaining: 1111\n",
      "               id origin destination    name days price       today  \\\n",
      "1344674  31000562    ATL         SEA  Alaska        $79  2024-09-18   \n",
      "1344675  31000563    ATL         SEA  Alaska        $79  2024-09-18   \n",
      "1344676  31000564    ATL         SEA   Delta        $79  2024-09-18   \n",
      "1344677  31000565    ATL         SEA   Delta        $79  2024-09-18   \n",
      "1344772  31000773    ATL         SEA  Alaska        $79  2024-09-18   \n",
      "\n",
      "         days_ahead flight_duration           flight_depart  \\\n",
      "1344674          34     5 hr 30 min  7:00 AM on Wed, Oct 23   \n",
      "1344675          34     5 hr 35 min  6:25 PM on Wed, Oct 23   \n",
      "1344676          34     5 hr 34 min  7:30 AM on Wed, Oct 23   \n",
      "1344677          34     5 hr 33 min  7:50 PM on Wed, Oct 23   \n",
      "1344772          35     5 hr 37 min  3:45 PM on Thu, Oct 24   \n",
      "\n",
      "                   flight_arrive stops stops_info departure_date currency  \\\n",
      "1344674   9:30 AM on Wed, Oct 23     0                2024-10-23        $   \n",
      "1344675   9:00 PM on Wed, Oct 23     0                2024-10-23        $   \n",
      "1344676  10:04 AM on Wed, Oct 23     0                2024-10-23        $   \n",
      "1344677  10:23 PM on Wed, Oct 23     0                2024-10-23        $   \n",
      "1344772   6:22 PM on Thu, Oct 24     0                2024-10-24        $   \n",
      "\n",
      "         price_float  \n",
      "1344674         79.0  \n",
      "1344675         79.0  \n",
      "1344676         79.0  \n",
      "1344677         79.0  \n",
      "1344772         79.0  \n"
     ]
    }
   ],
   "source": [
    "# results = extract_price_and_currency(results)\n",
    "print(f\"\\nTotal rows now: {len(results)}\")\n",
    "# print(results.head())\n",
    "results_nonstop = filter_df(results, max_price=90, max_stops=0)\n",
    "print(results_nonstop.head())"
   ]
  },
  {
   "cell_type": "code",
   "execution_count": null,
   "metadata": {},
   "outputs": [],
   "source": []
  }
 ],
 "metadata": {
  "kernelspec": {
   "display_name": "Python 3 (ipykernel)",
   "language": "python",
   "name": "python3"
  },
  "language_info": {
   "codemirror_mode": {
    "name": "ipython",
    "version": 3
   },
   "file_extension": ".py",
   "mimetype": "text/x-python",
   "name": "python",
   "nbconvert_exporter": "python",
   "pygments_lexer": "ipython3",
   "version": "3.12.3"
  }
 },
 "nbformat": 4,
 "nbformat_minor": 4
}
