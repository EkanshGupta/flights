{
 "cells": [
  {
   "cell_type": "code",
   "execution_count": 1,
   "metadata": {},
   "outputs": [],
   "source": [
    "import numpy as np\n",
    "import helper\n",
    "import pickle\n",
    "import datetime\n",
    "import os.path\n",
    "import time\n",
    "import pandas as pd"
   ]
  },
  {
   "cell_type": "code",
   "execution_count": 2,
   "metadata": {},
   "outputs": [
    {
     "name": "stdout",
     "output_type": "stream",
     "text": [
      "2024-05-30.pkl\n",
      "6593  entries repaired\n",
      "2024-05-30_intl.pkl\n",
      "10456  entries repaired\n",
      "2024-05-31.pkl\n",
      "13376  entries repaired\n"
     ]
    }
   ],
   "source": [
    "origin=\"ATL\"\n",
    "destination=\"SEA\"\n",
    "mode=\"domestic\"\n",
    "duration=5\n",
    "folder_location = \"logs/\"\n",
    "exclusion_list = [\"2024-05-31\"]\n",
    "\n",
    "helper.repairPkl(folder_location, exclusion_list)\n",
    "#This gets all the data from all the files that matches origin and destination\n",
    "# aggDf = helper.getAllFlightData(origin, destination, folder_location, exclusion_list)\n",
    "# aggDf = helper.getItinDfFromAggDf(origin, destination, aggDf, duration, mode)"
   ]
  }
 ],
 "metadata": {
  "kernelspec": {
   "display_name": "Python 3",
   "language": "python",
   "name": "python3"
  },
  "language_info": {
   "codemirror_mode": {
    "name": "ipython",
    "version": 3
   },
   "file_extension": ".py",
   "mimetype": "text/x-python",
   "name": "python",
   "nbconvert_exporter": "python",
   "pygments_lexer": "ipython3",
   "version": "3.8.5"
  }
 },
 "nbformat": 4,
 "nbformat_minor": 4
}
