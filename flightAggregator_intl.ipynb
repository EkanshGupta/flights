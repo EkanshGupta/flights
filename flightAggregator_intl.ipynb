{
 "cells": [
  {
   "cell_type": "code",
   "execution_count": 1,
   "metadata": {},
   "outputs": [],
   "source": [
    "import numpy as np\n",
    "import helper\n",
    "import pickle\n",
    "import datetime\n",
    "import os.path\n",
    "import time\n",
    "import pandas as pd"
   ]
  },
  {
   "cell_type": "code",
   "execution_count": 2,
   "metadata": {
    "scrolled": false
   },
   "outputs": [
    {
     "name": "stdout",
     "output_type": "stream",
     "text": [
      "Sweep  1\n"
     ]
    },
    {
     "data": {
      "application/vnd.jupyter.widget-view+json": {
       "model_id": "d8aef1a2858446df93d41f945ec957de",
       "version_major": 2,
       "version_minor": 0
      },
      "text/plain": [
       "HBox(children=(HTML(value='Processing'), FloatProgress(value=0.0, max=4500.0), HTML(value='')))"
      ]
     },
     "metadata": {},
     "output_type": "display_data"
    },
    {
     "name": "stdout",
     "output_type": "stream",
     "text": [
      "\n",
      "\n",
      "\n",
      " 692 / 4500  entries unfinished\n",
      "\n",
      "\n",
      "Sweep  2\n"
     ]
    },
    {
     "data": {
      "application/vnd.jupyter.widget-view+json": {
       "model_id": "a10d4f7f4e7c4218a6e53d448e091a49",
       "version_major": 2,
       "version_minor": 0
      },
      "text/plain": [
       "HBox(children=(HTML(value='Processing'), FloatProgress(value=0.0, max=4500.0), HTML(value='')))"
      ]
     },
     "metadata": {},
     "output_type": "display_data"
    },
    {
     "name": "stdout",
     "output_type": "stream",
     "text": [
      "\n",
      "\n",
      "\n",
      " 616 / 4500  entries unfinished\n",
      "\n",
      "\n",
      "Sweep  3\n"
     ]
    },
    {
     "data": {
      "application/vnd.jupyter.widget-view+json": {
       "model_id": "3156a58f411d4600b4be995795de202f",
       "version_major": 2,
       "version_minor": 0
      },
      "text/plain": [
       "HBox(children=(HTML(value='Processing'), FloatProgress(value=0.0, max=4500.0), HTML(value='')))"
      ]
     },
     "metadata": {},
     "output_type": "display_data"
    },
    {
     "name": "stdout",
     "output_type": "stream",
     "text": [
      "\n",
      "\n",
      "\n",
      " 616 / 4500  entries unfinished\n",
      "\n",
      "\n"
     ]
    }
   ],
   "source": [
    "intl_city_pairs = [\n",
    "    [\"ATL\",\"FCO\",[5,7,9,11,13]], \n",
    "    [\"ATL\",\"DEL\",[21,24,27,30,33]], \n",
    "    [\"ATL\",\"CDG\",[5,7,9,11,13]],\n",
    "    [\"ATL\",\"FRA\",[5,7,9,11,13]],\n",
    "    [\"ATL\",\"LHR\",[5,7,9,11,13]], \n",
    "    [\"ATL\",\"ATH\",[5,7,9,11,13]], \n",
    "    [\"ATL\",\"CAI\",[5,7,9,11,13]],\n",
    "    [\"ATL\",\"CUN\",[4,5,6,7,8]],\n",
    "    [\"ATL\",\"HND\",[5,6,7,9,10]],\n",
    "]\n",
    "num_days = 365\n",
    "mode = \"intl\"\n",
    "folder_path = 'logs/'\n",
    "max_tries = 3\n",
    "date_today_file = datetime.datetime.today().strftime('%Y-%m-%d') + '_intl.pkl'\n",
    "if os.path.isfile(folder_path+date_today_file):\n",
    "    with open(folder_path+date_today_file, 'rb') as handle:\n",
    "        itin_dict = pickle.load(handle) \n",
    "else:\n",
    "    itin = helper.gen_itineraries(intl_city_pairs, \"intl\", num_days)\n",
    "    itin_dict = helper.gen_dict_from_itin(itin)\n",
    "    with open(folder_path+date_today_file, 'wb') as handle:\n",
    "        pickle.dump(itin_dict, handle, protocol=pickle.HIGHEST_PROTOCOL)\n",
    "\n",
    "for i in range(max_tries):\n",
    "    print(\"Sweep \",(i+1))\n",
    "    num_unfinished = helper.update_dict(itin_dict, folder_path, date_today_file, mode)\n",
    "    total_keys = len(itin_dict.keys())\n",
    "    print(\"\\n\\n\",num_unfinished,\"/\",total_keys, \" entries unfinished\\n\\n\")\n",
    "    if num_unfinished==0:\n",
    "        print(\"\\n\\nAll entries filled. Exiting\\n\\n\")\n",
    "        break"
   ]
  }
 ],
 "metadata": {
  "kernelspec": {
   "display_name": "Python 3",
   "language": "python",
   "name": "python3"
  },
  "language_info": {
   "codemirror_mode": {
    "name": "ipython",
    "version": 3
   },
   "file_extension": ".py",
   "mimetype": "text/x-python",
   "name": "python",
   "nbconvert_exporter": "python",
   "pygments_lexer": "ipython3",
   "version": "3.8.5"
  }
 },
 "nbformat": 4,
 "nbformat_minor": 5
}
