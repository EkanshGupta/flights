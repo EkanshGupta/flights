{
 "cells": [
  {
   "cell_type": "code",
   "execution_count": 1,
   "metadata": {},
   "outputs": [],
   "source": [
    "import numpy as np\n",
    "import helper\n",
    "import pickle\n",
    "import datetime\n",
    "import os.path\n",
    "import time\n",
    "import pandas as pd"
   ]
  },
  {
   "cell_type": "code",
   "execution_count": 2,
   "metadata": {},
   "outputs": [
    {
     "name": "stdout",
     "output_type": "stream",
     "text": [
      "['.DS_Store', '2024-05-30.pkl', '2024-05-30_intl.pkl']\n"
     ]
    }
   ],
   "source": [
    "origin=\"ATL\"\n",
    "destination=\"SEA\"\n",
    "mode=\"domestic\"\n",
    "duration=5\n",
    "folder_location = \"logs/\"\n",
    "exclusion_list = [\"2024-05-31.pkl\", \"2024-05-31_intl.pkl\"]\n",
    "stops = 0\n",
    "\n",
    "#This gets all the data from all the files that matches origin and destination\n",
    "aggDf = helper.getAllFlightData(origin, destination, folder_location, exclusion_list)\n",
    "aggDf = helper.getItinDfFromAggDf(origin, destination, aggDf, duration, mode, stops)"
   ]
  }
 ],
 "metadata": {
  "kernelspec": {
   "display_name": "Python 3",
   "language": "python",
   "name": "python3"
  },
  "language_info": {
   "codemirror_mode": {
    "name": "ipython",
    "version": 3
   },
   "file_extension": ".py",
   "mimetype": "text/x-python",
   "name": "python",
   "nbconvert_exporter": "python",
   "pygments_lexer": "ipython3",
   "version": "3.8.5"
  }
 },
 "nbformat": 4,
 "nbformat_minor": 4
}
